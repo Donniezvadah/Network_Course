{
  "cells": [
    {
      "cell_type": "code",
      "execution_count": null,
      "metadata": {
        "id": "dIKu3oE3iUOO"
      },
      "outputs": [],
      "source": [
        "import numpy as np\n",
        "import numpy.linalg as lg\n",
        "import networkx as nx\n",
        "import matplotlib.pyplot as plt"
      ]
    },
    {
      "cell_type": "code",
      "execution_count": null,
      "metadata": {
        "id": "ktXSsZUtiUOQ"
      },
      "outputs": [],
      "source": [
        "G = nx.Graph()\n",
        "G.add_edges_from([(1,6),(1,2),(1,3),(1,5),(2,3),(3,4),(4,5),(5,6),(6,2)])\n",
        "plt.clf()\n",
        "nx.draw(G)\n",
        "plt.savefig(\"G.png\")\n",
        "plt.show()"
      ]
    },
    {
      "cell_type": "code",
      "execution_count": null,
      "metadata": {
        "id": "uz7EY2RbiUOQ"
      },
      "outputs": [],
      "source": [
        "plt.clf()\n",
        "pos=nx.spring_layout(G)\n",
        "nx.draw_networkx_labels(G,pos)\n",
        "nx.draw_networkx_nodes(G,pos)\n",
        "nx.draw_networkx_edges(G,pos)\n",
        "plt.axis('off')\n",
        "plt.savefig(\"G.png\")\n",
        "plt.show()"
      ]
    },
    {
      "cell_type": "code",
      "execution_count": null,
      "metadata": {
        "id": "ZHUJrpqziUOS"
      },
      "outputs": [],
      "source": [
        "A=nx.to_numpy_array(G)\n",
        "print(A)"
      ]
    },
    {
      "cell_type": "code",
      "execution_count": null,
      "metadata": {
        "id": "QFw1beIgiUOT"
      },
      "outputs": [],
      "source": [
        "G2=nx.from_numpy_array(A)\n",
        "plt.clf()\n",
        "pos2=nx.spring_layout(G2)\n",
        "nx.draw_networkx(G2,pos2)\n",
        "plt.axis('off')\n",
        "plt.savefig(\"G2.png\")\n",
        "plt.show()"
      ]
    },
    {
      "cell_type": "code",
      "execution_count": null,
      "metadata": {
        "id": "PSt2LytXiUOU"
      },
      "outputs": [],
      "source": [
        "n = len(A)\n",
        "e = np.ones(n)\n",
        "k = np.dot(A,e)\n",
        "print(k)"
      ]
    },
    {
      "cell_type": "code",
      "execution_count": null,
      "metadata": {
        "id": "j46pXuoyiUOa"
      },
      "outputs": [],
      "source": [
        "H=G.copy()\n",
        "H.remove_edges_from([(1,3),(4,5),(5,6)])\n",
        "plt.clf()\n",
        "nx.draw_networkx_labels(H,pos)\n",
        "nx.draw_networkx_nodes(H,pos)\n",
        "nx.draw_networkx_edges(H,pos)\n",
        "plt.axis('off')\n",
        "#nx.draw(H)\n",
        "plt.savefig(\"H.png\")\n",
        "plt.show()"
      ]
    },
    {
      "cell_type": "code",
      "execution_count": null,
      "metadata": {
        "id": "iixdnC0eiUOb"
      },
      "outputs": [],
      "source": [
        "C1 = [1,2,3]\n",
        "colour = np.tile('r',n)  # Default colour is red\n",
        "colour[C1] = 'b'  # Turn one community blue\n",
        "plt.clf()\n",
        "nx.draw_networkx(G2,pos2,node_color = colour)\n",
        "plt.axis('off')\n",
        "plt.savefig('ass.png')\n",
        "plt.show()"
      ]
    },
    {
      "cell_type": "code",
      "execution_count": null,
      "metadata": {
        "id": "V4Uq4sLIiUOc"
      },
      "outputs": [],
      "source": [
        "plt.clf()\n",
        "nx.draw_networkx(G,pos,node_color = colour)\n",
        "plt.axis('off')\n",
        "plt.savefig('ass.png')\n",
        "plt.show()"
      ]
    },
    {
      "cell_type": "code",
      "execution_count": null,
      "metadata": {
        "id": "Esgxt8t6iUOc"
      },
      "outputs": [],
      "source": [
        "A3=np.array([[0,1,1,0],[1,0,1,0],[1,1,0,1],[0,0,1,0]])"
      ]
    },
    {
      "cell_type": "code",
      "execution_count": null,
      "metadata": {
        "id": "a2cii6cmiUOh"
      },
      "outputs": [],
      "source": [
        "G3=nx.from_numpy_array(A3)\n",
        "plt.clf()\n",
        "nx.draw_networkx(G3)\n",
        "plt.axis('off')\n",
        "plt.savefig(\"G2.png\")\n",
        "plt.show()"
      ]
    },
    {
      "cell_type": "code",
      "execution_count": null,
      "metadata": {
        "id": "sbPZ6fWjiUOh"
      },
      "outputs": [],
      "source": [
        "print(A3@A3)\n",
        "print(A3@A3@A3)"
      ]
    },
    {
      "cell_type": "code",
      "execution_count": null,
      "metadata": {
        "id": "CgEqOZ6SiUOh"
      },
      "outputs": [],
      "source": [
        "K=nx.read_weighted_edgelist('karate.txt')"
      ]
    },
    {
      "cell_type": "code",
      "execution_count": null,
      "metadata": {
        "id": "B5B2bV_7iUOi"
      },
      "outputs": [],
      "source": [
        "plt.clf()\n",
        "nx.draw_networkx(K)\n",
        "plt.axis('off')\n",
        "plt.savefig(\"ass.png\")\n",
        "plt.show()\n",
        "A_K=nx.to_numpy_array(K)"
      ]
    },
    {
      "cell_type": "code",
      "execution_count": null,
      "metadata": {
        "id": "0bj_AFNQiUOn"
      },
      "outputs": [],
      "source": [
        "print(A_K)"
      ]
    },
    {
      "cell_type": "code",
      "execution_count": null,
      "metadata": {
        "id": "E6LHuU6piUOo"
      },
      "outputs": [],
      "source": [
        "#Redraw network graph to order node labelling in adjacency matrix.\n",
        "K=nx.from_numpy_array(A_K)\n",
        "plt.clf()\n",
        "pos=nx.spring_layout(K)\n",
        "nx.draw_networkx(K,pos)\n",
        "plt.axis('off')\n",
        "plt.savefig(\"pth2.png\")\n",
        "plt.show()\n",
        "#Define some vector quantities\n",
        "n = len(A_K)\n",
        "e = np.ones(n)\n",
        "k = np.dot(A_K,e)\n",
        "print(k)"
      ]
    },
    {
      "cell_type": "code",
      "execution_count": null,
      "metadata": {
        "id": "CdWtLi5qiUOo"
      },
      "outputs": [],
      "source": [
        "colour = np.tile('g',n)  # Default colour is red\n",
        "nx.draw_networkx(K,pos,node_color = colour,with_labels=False,node_size=15)\n",
        "plt.axis('off')\n",
        "plt.show()"
      ]
    },
    {
      "cell_type": "code",
      "execution_count": null,
      "metadata": {
        "id": "C4_CdQKpiUOo"
      },
      "outputs": [],
      "source": []
    }
  ],
  "metadata": {
    "kernelspec": {
      "display_name": "Python 3 (ipykernel)",
      "language": "python",
      "name": "python3"
    },
    "language_info": {
      "codemirror_mode": {
        "name": "ipython",
        "version": 3
      },
      "file_extension": ".py",
      "mimetype": "text/x-python",
      "name": "python",
      "nbconvert_exporter": "python",
      "pygments_lexer": "ipython3",
      "version": "3.12.6"
    },
    "colab": {
      "provenance": []
    }
  },
  "nbformat": 4,
  "nbformat_minor": 0
}